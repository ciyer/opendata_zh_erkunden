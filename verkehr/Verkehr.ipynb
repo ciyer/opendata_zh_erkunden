{
 "cells": [
  {
   "cell_type": "markdown",
   "id": "5a4b34dc",
   "metadata": {},
   "source": [
    "# Datensätze\n",
    "\n",
    "* https://data.stadt-zuerich.ch/dataset/sid_dav_verkehrszaehlung_miv_od2031\n",
    "* https://data.stadt-zuerich.ch/dataset/geo_standorte_der_verkehrszaehlungen_miv"
   ]
  },
  {
   "cell_type": "code",
   "execution_count": null,
   "id": "16c59a60",
   "metadata": {},
   "outputs": [],
   "source": [
    "import pandas as pd\n",
    "import seaborn as sns\n",
    "import matplotlib.pyplot as plt\n",
    "\n",
    "from opendata_zh import OpenDataZH\n",
    "\n",
    "sns.set_theme()\n",
    "params = {\n",
    "    'figure.figsize': [18, 6],\n",
    "   }\n",
    "plt.rcParams.update(params)\n",
    "odz = OpenDataZH()"
   ]
  },
  {
   "cell_type": "code",
   "execution_count": null,
   "id": "0f99550f",
   "metadata": {},
   "outputs": [],
   "source": [
    "strassen_package = odz.get_package(name=\"ktzh_strassennetz__ogd_\")\n",
    "stadt_resource = strassen_package.geo_resource(0)\n",
    "stadt_df = stadt_resource.layer_df(\"ogd-0278_arv_basis_up_gemeinden_stadtkreise_f\")\n",
    "stadt_df = stadt_df[stadt_df[\"bezirksname\"] == \"Zürich\"]\n",
    "ax = stadt_df.plot(color=\"tab:gray\", alpha=0.2)\n",
    "stadt_df.boundary.plot(ax=ax, color=\"tab:blue\", linewidth=0.5, alpha=0.7)"
   ]
  },
  {
   "cell_type": "markdown",
   "id": "9bd1b70d",
   "metadata": {},
   "source": [
    "# Fuss- und Velowegnetz"
   ]
  },
  {
   "cell_type": "code",
   "execution_count": null,
   "id": "061494b1",
   "metadata": {},
   "outputs": [],
   "source": [
    "verkehr_package = odz.get_package(name=\"sid_dav_verkehrszaehlung_miv_od2031\")\n",
    "verkehr_package.display_metadata()"
   ]
  },
  {
   "cell_type": "code",
   "execution_count": null,
   "id": "ad378ad3",
   "metadata": {},
   "outputs": [],
   "source": [
    "verkehr_package.display_resource_summary()"
   ]
  },
  {
   "cell_type": "code",
   "execution_count": null,
   "id": "58db3e9c",
   "metadata": {},
   "outputs": [],
   "source": [
    "verkehr_package.tabular_resource(0).display_metadata()\n",
    "verkehr_df = verkehr_package.tabular_resource(0).df\n",
    "verkehr_df.head()"
   ]
  },
  {
   "cell_type": "code",
   "execution_count": null,
   "id": "8de0a296",
   "metadata": {},
   "outputs": [],
   "source": [
    "verkehr_df.groupby([\"ZSID\", \"ZSName\"])[\"AnzFahrzeuge\"].describe()"
   ]
  },
  {
   "cell_type": "code",
   "execution_count": null,
   "id": "bd05f1de",
   "metadata": {},
   "outputs": [],
   "source": [
    "standorte_package = odz.get_package(name=\"geo_standorte_der_verkehrszaehlungen_miv\")\n",
    "standorte_package.display_metadata()"
   ]
  },
  {
   "cell_type": "code",
   "execution_count": null,
   "id": "5a8205b0",
   "metadata": {},
   "outputs": [],
   "source": [
    "standorte_package.display_resource_summary()"
   ]
  },
  {
   "cell_type": "code",
   "execution_count": null,
   "id": "f9fd8328",
   "metadata": {},
   "outputs": [],
   "source": [
    "standorte_package.geo_resource(0).display_metadata()\n",
    "standort_df = standorte_package.geo_resource(0).df\n",
    "standort_df.head()"
   ]
  },
  {
   "cell_type": "code",
   "execution_count": null,
   "id": "84d104af",
   "metadata": {},
   "outputs": [],
   "source": [
    "ax = standort_df.plot(color=\"tab:gray\", alpha=0.2)\n",
    "stadt_df.boundary.plot(ax=ax, color=\"tab:blue\", linewidth=0.5, alpha=0.7)\n",
    "standort_df.plot(ax=ax, color=\"tab:red\", alpha=0.3, edgecolors='none')"
   ]
  },
  {
   "cell_type": "code",
   "execution_count": null,
   "id": "5f6afd27",
   "metadata": {},
   "outputs": [],
   "source": []
  }
 ],
 "metadata": {
  "kernelspec": {
   "display_name": "opendata",
   "language": "python",
   "name": "python3"
  },
  "language_info": {
   "codemirror_mode": {
    "name": "ipython",
    "version": 3
   },
   "file_extension": ".py",
   "mimetype": "text/x-python",
   "name": "python",
   "nbconvert_exporter": "python",
   "pygments_lexer": "ipython3",
   "version": "3.12.9"
  }
 },
 "nbformat": 4,
 "nbformat_minor": 5
}
