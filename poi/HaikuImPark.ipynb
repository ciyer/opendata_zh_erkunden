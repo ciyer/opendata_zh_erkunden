{
 "cells": [
  {
   "cell_type": "markdown",
   "id": "f1ce1066",
   "metadata": {},
   "source": [
    "https://data.stadt-zuerich.ch/dataset/geo_haiku_im_park"
   ]
  },
  {
   "cell_type": "code",
   "execution_count": null,
   "id": "9982a8a5",
   "metadata": {},
   "outputs": [],
   "source": [
    "import pandas as pd\n",
    "import seaborn as sns\n",
    "import matplotlib.pyplot as plt\n",
    "\n",
    "from opendata_zh import OpenDataZH\n",
    "\n",
    "sns.set_theme()\n",
    "params = {\n",
    "    'figure.figsize': [18, 6],\n",
    "   }\n",
    "plt.rcParams.update(params)\n",
    "odz = OpenDataZH()"
   ]
  },
  {
   "cell_type": "code",
   "execution_count": null,
   "id": "66f937b0",
   "metadata": {},
   "outputs": [],
   "source": [
    "strassen_package = odz.get_package(name=\"ktzh_strassennetz__ogd_\")\n",
    "stadt_resource = strassen_package.geo_resource(0)\n",
    "stadt_df = stadt_resource.layer_df(\"ogd-0278_arv_basis_up_gemeinden_stadtkreise_f\")\n",
    "stadt_df = stadt_df[stadt_df[\"bezirksname\"] == \"Zürich\"]\n",
    "ax = stadt_df.plot(color=\"tab:gray\", alpha=0.2)\n",
    "stadt_df.boundary.plot(ax=ax, color=\"tab:blue\", linewidth=0.5, alpha=0.7)"
   ]
  },
  {
   "cell_type": "code",
   "execution_count": null,
   "id": "01830490",
   "metadata": {},
   "outputs": [],
   "source": [
    "package = odz.get_package(name=\"geo_haiku_im_park\")\n",
    "package.display_metadata()"
   ]
  },
  {
   "cell_type": "code",
   "execution_count": null,
   "id": "a05fa201",
   "metadata": {},
   "outputs": [],
   "source": [
    "package.display_resource_summary()"
   ]
  },
  {
   "cell_type": "code",
   "execution_count": null,
   "id": "1c576194",
   "metadata": {},
   "outputs": [],
   "source": [
    "df = package.geo_resource(0).df\n",
    "df.head()"
   ]
  },
  {
   "cell_type": "code",
   "execution_count": null,
   "id": "e2d062ab",
   "metadata": {},
   "outputs": [],
   "source": [
    "ax = stadt_df.plot(color=\"tab:gray\", alpha=0.2)\n",
    "stadt_df.boundary.plot(ax=ax, color=\"tab:blue\", linewidth=0.5, alpha=0.7)\n",
    "df.plot(ax=ax, color=\"tab:red\", alpha=0.3, edgecolors='none')"
   ]
  },
  {
   "cell_type": "code",
   "execution_count": null,
   "id": "b7ffab11",
   "metadata": {},
   "outputs": [],
   "source": [
    "df.columns"
   ]
  },
  {
   "cell_type": "code",
   "execution_count": null,
   "id": "fc4773db",
   "metadata": {},
   "outputs": [],
   "source": [
    "df"
   ]
  },
  {
   "cell_type": "code",
   "execution_count": null,
   "id": "f2441645",
   "metadata": {},
   "outputs": [],
   "source": []
  }
 ],
 "metadata": {
  "kernelspec": {
   "display_name": "opendata",
   "language": "python",
   "name": "python3"
  },
  "language_info": {
   "codemirror_mode": {
    "name": "ipython",
    "version": 3
   },
   "file_extension": ".py",
   "mimetype": "text/x-python",
   "name": "python",
   "nbconvert_exporter": "python",
   "pygments_lexer": "ipython3",
   "version": "3.12.9"
  }
 },
 "nbformat": 4,
 "nbformat_minor": 5
}
