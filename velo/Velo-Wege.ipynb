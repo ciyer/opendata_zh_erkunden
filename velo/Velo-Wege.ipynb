{
 "cells": [
  {
   "cell_type": "markdown",
   "id": "eee537c5",
   "metadata": {},
   "source": [
    "# Datensätze\n",
    "\n",
    "* https://data.stadt-zuerich.ch/dataset/geo_fuss__und_velowegnetz\n",
    "* https://data.stadt-zuerich.ch/dataset/ktzh_veloinfrastruktur_radwege_und_radstreifen__ogd_\n",
    "* https://data.stadt-zuerich.ch/dataset/geo_masterplan_velo\n",
    "* https://data.stadt-zuerich.ch/dataset/ktzh_schweizmobil_routen__ogd_\n",
    "\n"
   ]
  },
  {
   "cell_type": "code",
   "execution_count": null,
   "id": "f74e0775",
   "metadata": {},
   "outputs": [],
   "source": [
    "import pandas as pd\n",
    "import seaborn as sns\n",
    "import matplotlib.pyplot as plt\n",
    "\n",
    "from opendata_zh import OpenDataZH\n",
    "\n",
    "sns.set_theme()\n",
    "params = {\n",
    "    'figure.figsize': [18, 6],\n",
    "   }\n",
    "plt.rcParams.update(params)\n",
    "odz = OpenDataZH()"
   ]
  },
  {
   "cell_type": "code",
   "execution_count": null,
   "id": "c554149b",
   "metadata": {},
   "outputs": [],
   "source": [
    "strassen_package = odz.get_package(name=\"ktzh_strassennetz__ogd_\")\n",
    "stadt_resource = strassen_package.geo_resource(0)\n",
    "stadt_df = stadt_resource.layer_df(\"ogd-0278_arv_basis_up_gemeinden_stadtkreise_f\")\n",
    "stadt_df = stadt_df[stadt_df[\"bezirksname\"] == \"Zürich\"]\n",
    "ax = stadt_df.plot(color=\"tab:gray\", alpha=0.2)\n",
    "stadt_df.boundary.plot(ax=ax, color=\"tab:blue\", linewidth=0.5, alpha=0.7)"
   ]
  },
  {
   "cell_type": "markdown",
   "id": "b19e41d6",
   "metadata": {},
   "source": [
    "# Fuss- und Velowegnetz"
   ]
  },
  {
   "cell_type": "code",
   "execution_count": null,
   "id": "b765c1fc",
   "metadata": {},
   "outputs": [],
   "source": [
    "netz_package = odz.get_package(name=\"geo_fuss__und_velowegnetz\")\n",
    "netz_package.display_metadata()"
   ]
  },
  {
   "cell_type": "code",
   "execution_count": null,
   "id": "6cd5d085",
   "metadata": {},
   "outputs": [],
   "source": [
    "netz_package.display_resource_summary()"
   ]
  },
  {
   "cell_type": "code",
   "execution_count": null,
   "id": "4569c3c1",
   "metadata": {},
   "outputs": [],
   "source": [
    "netz_package.geo_resource(0).display_metadata()\n",
    "netz_df = netz_package.geo_resource(0).df\n",
    "netz_df.head()"
   ]
  },
  {
   "cell_type": "code",
   "execution_count": null,
   "id": "b9346128",
   "metadata": {},
   "outputs": [],
   "source": [
    "ax = stadt_df.plot(color=\"tab:gray\", alpha=0.2)\n",
    "stadt_df.boundary.plot(ax=ax, color=\"tab:blue\", linewidth=0.5, alpha=0.7)\n",
    "netz_df.plot(ax=ax, color=\"tab:red\", alpha=0.3, edgecolors='none')"
   ]
  },
  {
   "cell_type": "markdown",
   "id": "6b822b32",
   "metadata": {},
   "source": [
    "# Veloinfrastruktur Radwege und Radstreifen"
   ]
  },
  {
   "cell_type": "code",
   "execution_count": null,
   "id": "99e897ab",
   "metadata": {},
   "outputs": [],
   "source": [
    "velowege_package = odz.get_package(name=\"ktzh_veloinfrastruktur_radwege_und_radstreifen__ogd_\")\n",
    "velowege_package.display_metadata()"
   ]
  },
  {
   "cell_type": "code",
   "execution_count": null,
   "id": "6421c124",
   "metadata": {},
   "outputs": [],
   "source": [
    "velowege_df = velowege_package.geo_resource(0).df\n",
    "velowege_df.head()"
   ]
  },
  {
   "cell_type": "code",
   "execution_count": null,
   "id": "7b6579bc",
   "metadata": {},
   "outputs": [],
   "source": [
    "ax = stadt_df.plot(color=\"tab:gray\", alpha=0.2)\n",
    "stadt_df.boundary.plot(ax=ax, color=\"tab:blue\", linewidth=0.5, alpha=0.7)\n",
    "velowege_df.plot(ax=ax, color=\"tab:red\", alpha=0.3, edgecolors='none')"
   ]
  },
  {
   "cell_type": "code",
   "execution_count": null,
   "id": "7f48bc8e",
   "metadata": {},
   "outputs": [],
   "source": [
    "velowege1_df = velowege_package.geo_resource(1).df\n",
    "velowege1_df.head()"
   ]
  },
  {
   "cell_type": "code",
   "execution_count": null,
   "id": "e051b257",
   "metadata": {},
   "outputs": [],
   "source": [
    "ax = stadt_df.plot(color=\"tab:gray\", alpha=0.2)\n",
    "stadt_df.boundary.plot(ax=ax, color=\"tab:blue\", linewidth=0.5, alpha=0.7)\n",
    "velowege1_df.plot(ax=ax, color=\"tab:red\", alpha=0.3, edgecolors='none')"
   ]
  },
  {
   "cell_type": "markdown",
   "id": "5bd17435",
   "metadata": {},
   "source": [
    "# Masterplan Velo"
   ]
  },
  {
   "cell_type": "code",
   "execution_count": null,
   "id": "3a0aeb34",
   "metadata": {},
   "outputs": [],
   "source": [
    "masterplan_package = odz.get_package(name=\"geo_masterplan_velo\")\n",
    "masterplan_package.display_metadata()"
   ]
  },
  {
   "cell_type": "code",
   "execution_count": null,
   "id": "3fd67cd7",
   "metadata": {},
   "outputs": [],
   "source": [
    "masterplan_df = masterplan_package.geo_resource(0).df\n",
    "masterplan_df.head()"
   ]
  },
  {
   "cell_type": "code",
   "execution_count": null,
   "id": "37bc99d8",
   "metadata": {},
   "outputs": [],
   "source": [
    "ax = stadt_df.plot(color=\"tab:gray\", alpha=0.2)\n",
    "colors = sns.color_palette(\"tab10\", 10)[1:4]\n",
    "stadt_df.boundary.plot(ax=ax, color=\"tab:blue\", linewidth=0.5, alpha=0.3)\n",
    "for i, (group, gdf) in enumerate(masterplan_df.groupby(\"masterplan_velo\")):\n",
    "    gdf.plot(ax=ax, color=colors[i], alpha=0.7, edgecolors='none')"
   ]
  },
  {
   "cell_type": "code",
   "execution_count": null,
   "id": "f9f7b702",
   "metadata": {},
   "outputs": [],
   "source": [
    "fig, axs = plt.subplots(1, len(masterplan_df[\"masterplan_velo\"].unique()), sharex=True, sharey=True)\n",
    "for i, (group, gdf) in enumerate(masterplan_df.groupby(\"masterplan_velo\")):\n",
    "    ax = axs[i]\n",
    "    gdf.plot(ax=ax, color=colors[i], alpha=0.7, edgecolors='none')\n",
    "    ax.set_title(group)"
   ]
  },
  {
   "cell_type": "code",
   "execution_count": null,
   "id": "4347d061",
   "metadata": {},
   "outputs": [],
   "source": []
  }
 ],
 "metadata": {
  "kernelspec": {
   "display_name": "opendata",
   "language": "python",
   "name": "python3"
  },
  "language_info": {
   "codemirror_mode": {
    "name": "ipython",
    "version": 3
   },
   "file_extension": ".py",
   "mimetype": "text/x-python",
   "name": "python",
   "nbconvert_exporter": "python",
   "pygments_lexer": "ipython3",
   "version": "3.12.9"
  }
 },
 "nbformat": 4,
 "nbformat_minor": 5
}
